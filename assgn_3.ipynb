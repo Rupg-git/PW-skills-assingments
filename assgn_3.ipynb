{
  "cells": [
    {
      "cell_type": "markdown",
      "metadata": {
        "id": "GmVThjve3sWh"
      },
      "source": [
        "# 1\n",
        "\n",
        "\n",
        "'def' keyword is used to create a funtion.\n",
        "\n",
        "Here is funtion which returns odd numbers in range(1,25)"
      ]
    },
    {
      "cell_type": "code",
      "execution_count": null,
      "metadata": {
        "id": "LqrfDsYm3sWk",
        "outputId": "30ddbff8-fd48-43a2-c3d2-e5d5b0386ea3"
      },
      "outputs": [
        {
          "data": {
            "text/plain": [
              "[1, 3, 5, 7, 9, 11, 13, 15, 17, 19, 21, 23]"
            ]
          },
          "execution_count": 2,
          "metadata": {},
          "output_type": "execute_result"
        }
      ],
      "source": [
        "def odd_nos():\n",
        "    odd_nos_list = []\n",
        "    for i in range(1,25):\n",
        "        if i %2 !=0:\n",
        "            odd_nos_list.append(i)\n",
        "    return odd_nos_list\n",
        "odd_nos()\n",
        "\n"
      ]
    },
    {
      "cell_type": "markdown",
      "metadata": {
        "id": "ZTP1ZcdH3sWl"
      },
      "source": [
        "# 2\n",
        "\n",
        "1. *args are used in function definition to pass variable arguments to a function.\n",
        "\n",
        "2. **kwargs are used in function definiton to pass varible (key,value) pairs to a function."
      ]
    },
    {
      "cell_type": "code",
      "execution_count": null,
      "metadata": {
        "id": "e6fFUHzg3sWm"
      },
      "outputs": [],
      "source": [
        "# *args\n",
        "\n",
        "def names(*args):\n",
        "    for name in args:\n",
        "        print(name)"
      ]
    },
    {
      "cell_type": "code",
      "execution_count": null,
      "metadata": {
        "id": "QbiHUn1H3sWm",
        "outputId": "868ba8fd-bf2d-4d7c-e17e-7ae201385afa"
      },
      "outputs": [
        {
          "name": "stdout",
          "output_type": "stream",
          "text": [
            "Python\n",
            "Java\n",
            "JavaScript\n"
          ]
        }
      ],
      "source": [
        "names('Python','Java','JavaScript')"
      ]
    },
    {
      "cell_type": "code",
      "execution_count": null,
      "metadata": {
        "id": "Df2QEA2y3sWm",
        "outputId": "171484fd-6cc3-4ce8-cc25-078bb528e769"
      },
      "outputs": [
        {
          "name": "stdout",
          "output_type": "stream",
          "text": [
            "Python\n",
            "Java\n",
            "JavaScript\n",
            "Ruby\n",
            "Perl\n",
            "Django\n"
          ]
        }
      ],
      "source": [
        "# Now, if want to add more names then we not need to change the function definition\n",
        "# We have to pass it , that all. for eg;\n",
        "\n",
        "names('Python','Java','JavaScript','Ruby','Perl','Django')"
      ]
    },
    {
      "cell_type": "code",
      "execution_count": null,
      "metadata": {
        "id": "IpL7xN5A3sWm"
      },
      "outputs": [],
      "source": [
        "# **kwargs\n",
        "\n",
        "def students(**kwargs):\n",
        "    for key, value in kwargs.items():\n",
        "        print(f'{key} age is {value}')"
      ]
    },
    {
      "cell_type": "code",
      "execution_count": null,
      "metadata": {
        "id": "fBNsJ9d83sWn",
        "outputId": "30d514bf-de64-466c-f69d-a67445f3aea3"
      },
      "outputs": [
        {
          "name": "stdout",
          "output_type": "stream",
          "text": [
            "Ram age is 23\n",
            "Sita age is 22\n"
          ]
        }
      ],
      "source": [
        "students(Ram = 23,Sita = 22)"
      ]
    },
    {
      "cell_type": "code",
      "execution_count": null,
      "metadata": {
        "id": "0O5dR35e3sWn",
        "outputId": "e2dd1015-2ae3-4779-cfd7-d12c88d309e3"
      },
      "outputs": [
        {
          "name": "stdout",
          "output_type": "stream",
          "text": [
            "Ram age is 23\n",
            "Akbar age is 22\n",
            "Govind age is 23\n",
            "Adam age is 21\n",
            "Vivekanad age is 25\n"
          ]
        }
      ],
      "source": [
        "# Now, if want to add more students then we not need to change the function definition\n",
        "# We have to pass it with their key,value pair that it. for eg;\n",
        "\n",
        "students(Ram = 23,Akbar = 22,Govind = 23,Adam = 21,Vivekanad = 25)"
      ]
    },
    {
      "cell_type": "markdown",
      "metadata": {
        "id": "LcpBEmao3sWn"
      },
      "source": [
        "# 3\n",
        "\n",
        "In Python, An iterator is an object which is used to iterate over a range of elements,\n",
        "\n",
        "It consists two methods __iter__() and __next__().\n",
        "\n",
        "1. __iter__() is used to initialize the iterator\n",
        "\n",
        "2. __next__() is used to iterate over the iterator\n",
        "\n"
      ]
    },
    {
      "cell_type": "code",
      "execution_count": null,
      "metadata": {
        "id": "Bwwujgjg3sWo"
      },
      "outputs": [],
      "source": [
        "list1 = [2,4,6,8,10,12,14,16,18,20]"
      ]
    },
    {
      "cell_type": "code",
      "execution_count": null,
      "metadata": {
        "id": "pwV3JODv3sWo"
      },
      "outputs": [],
      "source": [
        "gen = list1.__iter__()"
      ]
    },
    {
      "cell_type": "markdown",
      "metadata": {
        "id": "1zcG7bQe3sWo"
      },
      "source": [
        "Now, generating the first 5 elements of the list1 using __next__() method"
      ]
    },
    {
      "cell_type": "code",
      "execution_count": null,
      "metadata": {
        "id": "p6sH73YI3sWo",
        "outputId": "a56426bb-abd9-44bd-a8d8-c018ec824c61"
      },
      "outputs": [
        {
          "data": {
            "text/plain": [
              "2"
            ]
          },
          "execution_count": 55,
          "metadata": {},
          "output_type": "execute_result"
        }
      ],
      "source": [
        "gen.__next__()"
      ]
    },
    {
      "cell_type": "code",
      "execution_count": null,
      "metadata": {
        "id": "_dBeWL_k3sWo",
        "outputId": "40852d95-2df6-4fae-836c-6f650281a579"
      },
      "outputs": [
        {
          "data": {
            "text/plain": [
              "4"
            ]
          },
          "execution_count": 56,
          "metadata": {},
          "output_type": "execute_result"
        }
      ],
      "source": [
        "gen.__next__()"
      ]
    },
    {
      "cell_type": "code",
      "execution_count": null,
      "metadata": {
        "id": "fMnUBIte3sWo",
        "outputId": "b81c42ee-2ec2-4a1d-a208-c31941e3f3f2"
      },
      "outputs": [
        {
          "data": {
            "text/plain": [
              "6"
            ]
          },
          "execution_count": 57,
          "metadata": {},
          "output_type": "execute_result"
        }
      ],
      "source": [
        "gen.__next__()"
      ]
    },
    {
      "cell_type": "code",
      "execution_count": null,
      "metadata": {
        "id": "gMip8k7l3sWo",
        "outputId": "a2b3b704-4b0d-4b17-a2a1-754bcad1ab12"
      },
      "outputs": [
        {
          "data": {
            "text/plain": [
              "8"
            ]
          },
          "execution_count": 58,
          "metadata": {},
          "output_type": "execute_result"
        }
      ],
      "source": [
        "gen.__next__()"
      ]
    },
    {
      "cell_type": "code",
      "execution_count": null,
      "metadata": {
        "id": "mU0Zo4ti3sWo",
        "outputId": "ae613a25-036e-400a-8373-60ececf990d6"
      },
      "outputs": [
        {
          "data": {
            "text/plain": [
              "10"
            ]
          },
          "execution_count": 59,
          "metadata": {},
          "output_type": "execute_result"
        }
      ],
      "source": [
        "gen.__next__()"
      ]
    },
    {
      "cell_type": "markdown",
      "metadata": {
        "id": "Gy-9cPC33sWp"
      },
      "source": [
        "# 4\n",
        "\n",
        "A 'generator' function is a special type of function that returns a generator object, which is an iterator that produces a series of values.\n",
        "\n",
        "The \"yield\" keyword is used to define a generator function."
      ]
    },
    {
      "cell_type": "code",
      "execution_count": null,
      "metadata": {
        "id": "PG6VqtXQ3sWp"
      },
      "outputs": [],
      "source": [
        "# Example of generator function\n",
        "def nos(n):\n",
        "    a = 1\n",
        "    for i in range(n):\n",
        "        yield a\n",
        "        a = a+1"
      ]
    },
    {
      "cell_type": "code",
      "execution_count": null,
      "metadata": {
        "id": "AfKMHMWT3sWp",
        "outputId": "f2387395-bd47-456e-8976-9efb61218c7e"
      },
      "outputs": [
        {
          "name": "stdout",
          "output_type": "stream",
          "text": [
            "1\n",
            "2\n",
            "3\n",
            "4\n",
            "5\n"
          ]
        }
      ],
      "source": [
        "# This will generate nos from 1 to 5\n",
        "for i in nos(5):\n",
        "    print(i)"
      ]
    },
    {
      "cell_type": "markdown",
      "metadata": {
        "id": "XOdBauJB3sWp"
      },
      "source": [
        "# 5"
      ]
    },
    {
      "cell_type": "code",
      "execution_count": null,
      "metadata": {
        "id": "0fNt57tY3sWp"
      },
      "outputs": [],
      "source": [
        "def prime_no():\n",
        "    for i in range(2,1000): # prime numbers less than 1000 & 2 is the first prime no\n",
        "        prime = True\n",
        "        for j in range(2,i):\n",
        "            if i % j == 0:\n",
        "                prime = False\n",
        "                break\n",
        "        if prime == True:\n",
        "            yield i"
      ]
    },
    {
      "cell_type": "code",
      "execution_count": null,
      "metadata": {
        "id": "FobJUB8S3sWp",
        "outputId": "66c5e304-390a-45c5-ee7d-97db2dfc873c"
      },
      "outputs": [
        {
          "data": {
            "text/plain": [
              "<generator object prime_no at 0x00000270441785E0>"
            ]
          },
          "execution_count": 142,
          "metadata": {},
          "output_type": "execute_result"
        }
      ],
      "source": [
        "gen = prime_no()\n",
        "gen"
      ]
    },
    {
      "cell_type": "code",
      "execution_count": null,
      "metadata": {
        "id": "m4zr-0Y73sWp",
        "outputId": "838412fa-02a9-4785-8868-d545a3dfdf61"
      },
      "outputs": [
        {
          "name": "stdout",
          "output_type": "stream",
          "text": [
            "2\n",
            "3\n",
            "5\n",
            "7\n",
            "11\n",
            "13\n",
            "17\n",
            "19\n",
            "23\n",
            "29\n",
            "31\n",
            "37\n",
            "41\n",
            "43\n",
            "47\n",
            "53\n",
            "59\n",
            "61\n",
            "67\n",
            "71\n"
          ]
        }
      ],
      "source": [
        "for i in range(20):  # First 20 prime numbers using __next__() method\n",
        "    print(gen.__next__())"
      ]
    },
    {
      "cell_type": "markdown",
      "source": [
        "#6"
      ],
      "metadata": {
        "id": "dIfpUxLO3u1P"
      }
    },
    {
      "cell_type": "code",
      "source": [
        "# we are taking a number from user as input\n",
        "\n",
        "n = int(input(\"Number of Fibonacci Series to be Printed: \"))\n",
        "\n",
        "# print initial 2 number to start fibonacci series\n",
        "a, b = 0, 1\n",
        "print(a, b, end=' ')\n",
        "\n",
        "i = 0\n",
        "while (i < n-2):\n",
        "    c = a + b\n",
        "    # add the last two numbers and print\n",
        "    print(c, end=' ')\n",
        "    a = b\n",
        "    b = c\n",
        "    i = i + 1"
      ],
      "metadata": {
        "colab": {
          "base_uri": "https://localhost:8080/"
        },
        "id": "OEI6DULv3xjL",
        "outputId": "23d0ccfa-09ba-4d0a-f974-412b9988b68e"
      },
      "execution_count": 1,
      "outputs": [
        {
          "output_type": "stream",
          "name": "stdout",
          "text": [
            "Number of Fibonacci Series to be Printed: 10\n",
            "0 1 1 2 3 5 8 13 21 34 "
          ]
        }
      ]
    },
    {
      "cell_type": "markdown",
      "source": [
        "#7"
      ],
      "metadata": {
        "id": "8W_L0-hv8L27"
      }
    },
    {
      "cell_type": "code",
      "source": [
        "\n",
        "#a List Comprehension to iterate through the given string: ‘pwskills’.\n",
        "string = 'pwskills'\n",
        "output = [char for char in string]\n",
        "print(output)\n"
      ],
      "metadata": {
        "colab": {
          "base_uri": "https://localhost:8080/"
        },
        "id": "xIdQbDmU8NpF",
        "outputId": "c7d6faa0-89a3-452a-ccf2-1fab8e21a020"
      },
      "execution_count": 2,
      "outputs": [
        {
          "output_type": "stream",
          "name": "stdout",
          "text": [
            "['p', 'w', 's', 'k', 'i', 'l', 'l', 's']\n"
          ]
        }
      ]
    },
    {
      "cell_type": "markdown",
      "source": [
        "#8"
      ],
      "metadata": {
        "id": "kLUH6SBF8v6U"
      }
    },
    {
      "cell_type": "code",
      "source": [
        "# palindrome number in python using while loop\n",
        "\n",
        "# take inputs\n",
        "num = int(input('Enter the number: '))\n",
        "\n",
        "# calculate reverse of number\n",
        "reverse = 0\n",
        "number = num\n",
        "while(num != 0):\n",
        "   remainder = num % 10\n",
        "   reverse = reverse * 10 + remainder\n",
        "   num = int(num / 10)\n",
        "\n",
        "# compare reverse to original number\n",
        "if(number == reverse):\n",
        "   print(number,'is a Palindrome')\n",
        "else:\n",
        "   print(number,'is not a Palindrome')"
      ],
      "metadata": {
        "colab": {
          "base_uri": "https://localhost:8080/"
        },
        "id": "y1_EvKUy-zeH",
        "outputId": "627c83f1-6b3f-49c5-e160-dbc00e2c2715"
      },
      "execution_count": 8,
      "outputs": [
        {
          "output_type": "stream",
          "name": "stdout",
          "text": [
            "Enter the number: 12321\n",
            "12321 is a Palindrome\n"
          ]
        }
      ]
    },
    {
      "cell_type": "markdown",
      "source": [
        "#9"
      ],
      "metadata": {
        "id": "gmNHv4G_9izU"
      }
    },
    {
      "cell_type": "code",
      "source": [
        "\n",
        "#a code to print odd numbers from 1 to 100 using list comprehension.\n",
        "[odd for odd in range(1,100) if odd%2!=0]\n"
      ],
      "metadata": {
        "colab": {
          "base_uri": "https://localhost:8080/"
        },
        "id": "CVRB8_Hn9keJ",
        "outputId": "b2920d0b-fe4b-476a-ed97-e1cea4b751b4"
      },
      "execution_count": 6,
      "outputs": [
        {
          "output_type": "execute_result",
          "data": {
            "text/plain": [
              "[1,\n",
              " 3,\n",
              " 5,\n",
              " 7,\n",
              " 9,\n",
              " 11,\n",
              " 13,\n",
              " 15,\n",
              " 17,\n",
              " 19,\n",
              " 21,\n",
              " 23,\n",
              " 25,\n",
              " 27,\n",
              " 29,\n",
              " 31,\n",
              " 33,\n",
              " 35,\n",
              " 37,\n",
              " 39,\n",
              " 41,\n",
              " 43,\n",
              " 45,\n",
              " 47,\n",
              " 49,\n",
              " 51,\n",
              " 53,\n",
              " 55,\n",
              " 57,\n",
              " 59,\n",
              " 61,\n",
              " 63,\n",
              " 65,\n",
              " 67,\n",
              " 69,\n",
              " 71,\n",
              " 73,\n",
              " 75,\n",
              " 77,\n",
              " 79,\n",
              " 81,\n",
              " 83,\n",
              " 85,\n",
              " 87,\n",
              " 89,\n",
              " 91,\n",
              " 93,\n",
              " 95,\n",
              " 97,\n",
              " 99]"
            ]
          },
          "metadata": {},
          "execution_count": 6
        }
      ]
    }
  ],
  "metadata": {
    "kernelspec": {
      "display_name": "Python 3",
      "language": "python",
      "name": "python3"
    },
    "language_info": {
      "codemirror_mode": {
        "name": "ipython",
        "version": 3
      },
      "file_extension": ".py",
      "mimetype": "text/x-python",
      "name": "python",
      "nbconvert_exporter": "python",
      "pygments_lexer": "ipython3",
      "version": "3.11.1"
    },
    "orig_nbformat": 4,
    "vscode": {
      "interpreter": {
        "hash": "60604c6687abd3d44db2988d94478afd71bdd2eba4a4e06208197b7b67afacd2"
      }
    },
    "colab": {
      "provenance": []
    }
  },
  "nbformat": 4,
  "nbformat_minor": 0
}